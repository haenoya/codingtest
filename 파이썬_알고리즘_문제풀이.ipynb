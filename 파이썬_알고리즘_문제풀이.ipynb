{
  "nbformat": 4,
  "nbformat_minor": 0,
  "metadata": {
    "colab": {
      "name": "파이썬 알고리즘 문제풀이.ipynb",
      "provenance": [],
      "collapsed_sections": [],
      "authorship_tag": "ABX9TyO0dcQ8TbvCwOC8RE2XhAfD",
      "include_colab_link": true
    },
    "kernelspec": {
      "name": "python3",
      "display_name": "Python 3"
    },
    "language_info": {
      "name": "python"
    }
  },
  "cells": [
    {
      "cell_type": "markdown",
      "metadata": {
        "id": "view-in-github",
        "colab_type": "text"
      },
      "source": [
        "<a href=\"https://colab.research.google.com/github/LeeHyuno/baekjoon/blob/main/%ED%8C%8C%EC%9D%B4%EC%8D%AC_%EC%95%8C%EA%B3%A0%EB%A6%AC%EC%A6%98_%EB%AC%B8%EC%A0%9C%ED%92%80%EC%9D%B4.ipynb\" target=\"_parent\"><img src=\"https://colab.research.google.com/assets/colab-badge.svg\" alt=\"Open In Colab\"/></a>"
      ]
    },
    {
      "cell_type": "markdown",
      "source": [
        "# 파이썬 기초 문법"
      ],
      "metadata": {
        "id": "QddQzMEbtgAp"
      }
    },
    {
      "cell_type": "code",
      "source": [
        "## 반복문을 이용한 문제 풀이\n",
        "\n",
        "# 1. 1부터 N까지 홀수 출력\n",
        "n = int(input()) # input은 문자로 받음\n",
        "for i in range(1, n+1):\n",
        "  if i%2 == 1:\n",
        "    print(i)\n",
        "  "
      ],
      "metadata": {
        "id": "-YCty2UQtkvM",
        "colab": {
          "base_uri": "https://localhost:8080/"
        },
        "outputId": "93d649d6-a1f9-4d47-9303-e9604ec7da5a"
      },
      "execution_count": null,
      "outputs": [
        {
          "output_type": "stream",
          "name": "stdout",
          "text": [
            "10\n",
            "1\n",
            "1\n",
            "2\n",
            "3\n",
            "5\n",
            "5\n",
            "7\n",
            "9\n",
            "10\n",
            "55\n"
          ]
        }
      ]
    },
    {
      "cell_type": "code",
      "source": [
        "# 2. 1부터 N까지 합 출력\n",
        "n = int(input()) \n",
        "sum = 0\n",
        "for i in range(1, n+1):\n",
        "  sum = sum +i\n",
        "print(sum)\n"
      ],
      "metadata": {
        "id": "5L1ezBOhuY1l",
        "colab": {
          "base_uri": "https://localhost:8080/"
        },
        "outputId": "d4309644-161f-4c7a-95ca-e1389d554321"
      },
      "execution_count": null,
      "outputs": [
        {
          "output_type": "stream",
          "name": "stdout",
          "text": [
            "10\n",
            "55\n"
          ]
        }
      ]
    },
    {
      "cell_type": "code",
      "source": [
        "# 3. N의 약수 출력\n",
        "n = int(input())\n",
        "for i in range(1, n+1):\n",
        "      if n%i ==0: # 어차피 i는 n이하\n",
        "        print(i)"
      ],
      "metadata": {
        "colab": {
          "base_uri": "https://localhost:8080/"
        },
        "id": "fQHSS8NzwZ1z",
        "outputId": "ce0a3a69-d3dd-49b5-a0f5-107b545fc185"
      },
      "execution_count": null,
      "outputs": [
        {
          "output_type": "stream",
          "name": "stdout",
          "text": [
            "20\n",
            "1\n",
            "2\n",
            "4\n",
            "5\n",
            "10\n",
            "20\n"
          ]
        }
      ]
    },
    {
      "cell_type": "code",
      "source": [
        "## 중첩 반복문 = 2중 for문\n",
        "\n",
        "for i in range(5):\n",
        "  print('i:', i, sep='', end =' ')  \n",
        "  for j in range(5):\n",
        "    print('j:', j, sep='', end =' ')  \n",
        "  print() # 줄바꿈 기능 해줌"
      ],
      "metadata": {
        "colab": {
          "base_uri": "https://localhost:8080/"
        },
        "id": "VChCGma6wsDz",
        "outputId": "51d5be16-6b5b-4c86-b65d-fb0cba7f0405"
      },
      "execution_count": null,
      "outputs": [
        {
          "output_type": "stream",
          "name": "stdout",
          "text": [
            "i:0 j:0 j:1 j:2 j:3 j:4 \n",
            "i:1 j:0 j:1 j:2 j:3 j:4 \n",
            "i:2 j:0 j:1 j:2 j:3 j:4 \n",
            "i:3 j:0 j:1 j:2 j:3 j:4 \n",
            "i:4 j:0 j:1 j:2 j:3 j:4 \n"
          ]
        }
      ]
    },
    {
      "cell_type": "code",
      "source": [
        "# sep 없을 때\n",
        "for i in range(5):\n",
        "  print('i:', i, end =' ')  \n",
        "  for j in range(5):\n",
        "    print('j:', j, end =' ')  \n",
        "  print() # 줄바꿈 기능 해줌"
      ],
      "metadata": {
        "colab": {
          "base_uri": "https://localhost:8080/"
        },
        "id": "uBBPYguAzVNz",
        "outputId": "d6e0a1e3-98dd-4e65-de0a-399303ee63cf"
      },
      "execution_count": null,
      "outputs": [
        {
          "output_type": "stream",
          "name": "stdout",
          "text": [
            "i: 0 j: 0 j: 1 j: 2 j: 3 j: 4 \n",
            "i: 1 j: 0 j: 1 j: 2 j: 3 j: 4 \n",
            "i: 2 j: 0 j: 1 j: 2 j: 3 j: 4 \n",
            "i: 3 j: 0 j: 1 j: 2 j: 3 j: 4 \n",
            "i: 4 j: 0 j: 1 j: 2 j: 3 j: 4 \n"
          ]
        }
      ]
    },
    {
      "cell_type": "code",
      "source": [
        "for i in range(1,6):\n",
        " print(\"*\"*i)"
      ],
      "metadata": {
        "colab": {
          "base_uri": "https://localhost:8080/"
        },
        "id": "tJxNdkptz9Hs",
        "outputId": "1058f143-d8f5-452a-9a75-392cd2901f5a"
      },
      "execution_count": null,
      "outputs": [
        {
          "output_type": "stream",
          "name": "stdout",
          "text": [
            "*\n",
            "**\n",
            "***\n",
            "****\n",
            "*****\n"
          ]
        }
      ]
    },
    {
      "cell_type": "code",
      "source": [
        "for i in range(5,0,-1):\n",
        "  print(\"*\"*i)"
      ],
      "metadata": {
        "colab": {
          "base_uri": "https://localhost:8080/"
        },
        "id": "5OXaNoBN0Lub",
        "outputId": "f78bbc74-0a69-4228-ced3-f70cbb9a52c2"
      },
      "execution_count": null,
      "outputs": [
        {
          "output_type": "stream",
          "name": "stdout",
          "text": [
            "*****\n",
            "****\n",
            "***\n",
            "**\n",
            "*\n"
          ]
        }
      ]
    },
    {
      "cell_type": "code",
      "source": [
        "## 문자열과 내장함수\n",
        "msg = \"It is Time\""
      ],
      "metadata": {
        "id": "Ypet2hxC1LHS"
      },
      "execution_count": null,
      "outputs": []
    },
    {
      "cell_type": "code",
      "source": [
        "# upper : 대문자로\n",
        "print(msg.upper()) # msg는 그대로 있고 출력만 변화시킴\n",
        "\n",
        "# lower : 소문자로\n",
        "print(msg.lower())"
      ],
      "metadata": {
        "colab": {
          "base_uri": "https://localhost:8080/"
        },
        "id": "asz3Vtqu1SMM",
        "outputId": "1d346b01-5869-4cd7-9912-1f4e59a0ab78"
      },
      "execution_count": null,
      "outputs": [
        {
          "output_type": "stream",
          "name": "stdout",
          "text": [
            "IT IS TIME\n",
            "it is time\n"
          ]
        }
      ]
    },
    {
      "cell_type": "code",
      "source": [
        "tmp = msg.upper()\n",
        "# find : 문자열 찾아서 위치의 인덱스 번호 알려줌\n",
        "print(tmp.find('T'))"
      ],
      "metadata": {
        "colab": {
          "base_uri": "https://localhost:8080/"
        },
        "id": "K4MDgRGr1Yqd",
        "outputId": "b3ef63b3-005c-45a3-da07-aa59c703b59c"
      },
      "execution_count": null,
      "outputs": [
        {
          "output_type": "stream",
          "name": "stdout",
          "text": [
            "1\n"
          ]
        }
      ]
    },
    {
      "cell_type": "code",
      "source": [
        "# count : 문자열의 갯수를 세줌\n",
        "print(tmp.count('T'))"
      ],
      "metadata": {
        "colab": {
          "base_uri": "https://localhost:8080/"
        },
        "id": "ALDRTIX21sW-",
        "outputId": "cdf80536-6ae9-4e9e-c8fb-54fed4014de9"
      },
      "execution_count": null,
      "outputs": [
        {
          "output_type": "stream",
          "name": "stdout",
          "text": [
            "1\n"
          ]
        }
      ]
    },
    {
      "cell_type": "code",
      "source": [
        "for i in range(len(msg)):\n",
        "  print(msg[i], end = ' ')\n",
        "print()\n",
        "\n",
        "for x in msg:\n",
        "  print(x, end=' ')\n",
        "print()"
      ],
      "metadata": {
        "colab": {
          "base_uri": "https://localhost:8080/"
        },
        "id": "rTeVeafy149c",
        "outputId": "bef57fea-8be9-4bb4-a704-2ada085d4040"
      },
      "execution_count": null,
      "outputs": [
        {
          "output_type": "stream",
          "name": "stdout",
          "text": [
            "I t   i s   T i m e \n",
            "I t   i s   T i m e \n"
          ]
        }
      ]
    },
    {
      "cell_type": "code",
      "source": [
        "## 리스트와 내장함수\n",
        "import random as r"
      ],
      "metadata": {
        "id": "wLSwIeR22O-8"
      },
      "execution_count": null,
      "outputs": []
    },
    {
      "cell_type": "code",
      "source": [
        "a = list(range(11))\n",
        "r.shuffle(a)\n",
        "print(a)"
      ],
      "metadata": {
        "colab": {
          "base_uri": "https://localhost:8080/"
        },
        "id": "cjAznDY55vzL",
        "outputId": "3e0c2ead-a848-42e7-cfcc-73819ef5de9a"
      },
      "execution_count": null,
      "outputs": [
        {
          "output_type": "stream",
          "name": "stdout",
          "text": [
            "[8, 5, 1, 9, 0, 10, 4, 7, 6, 2, 3]\n"
          ]
        }
      ]
    },
    {
      "cell_type": "code",
      "source": [
        "a =[23,12,36,53,19]\n",
        "for i in range(len(a)):\n",
        "  print(a[i], end=' ')\n",
        "print()\n",
        "\n",
        "for x in a:\n",
        "  print(x, end =' ')"
      ],
      "metadata": {
        "colab": {
          "base_uri": "https://localhost:8080/"
        },
        "id": "82yFuZ0B50U7",
        "outputId": "78be488f-b130-4779-9431-f653ff7491b4"
      },
      "execution_count": null,
      "outputs": [
        {
          "output_type": "stream",
          "name": "stdout",
          "text": [
            "23 12 36 53 19 \n",
            "23 12 36 53 19 "
          ]
        }
      ]
    },
    {
      "cell_type": "code",
      "source": [
        "# enumerate : 인덱스 번호와 원소값 같이 출력 (튜플형태로)\n",
        "for x in enumerate(a):\n",
        "  print(x)"
      ],
      "metadata": {
        "colab": {
          "base_uri": "https://localhost:8080/"
        },
        "id": "ADQUXVi86Wer",
        "outputId": "300608f7-5790-4cb0-d349-343f6018b966"
      },
      "execution_count": null,
      "outputs": [
        {
          "output_type": "stream",
          "name": "stdout",
          "text": [
            "(0, 23)\n",
            "(1, 12)\n",
            "(2, 36)\n",
            "(3, 53)\n",
            "(4, 19)\n"
          ]
        }
      ]
    },
    {
      "cell_type": "code",
      "source": [
        "for x in enumerate(a):\n",
        "  print(x[0], x[1])\n",
        "\n",
        "for index, value in enumerate(a):\n",
        "  print(index, value)"
      ],
      "metadata": {
        "colab": {
          "base_uri": "https://localhost:8080/"
        },
        "id": "yUCNw7Tj6ubQ",
        "outputId": "ba1473e2-151a-48d6-be7e-da05c672feb2"
      },
      "execution_count": null,
      "outputs": [
        {
          "output_type": "stream",
          "name": "stdout",
          "text": [
            "0 23\n",
            "1 12\n",
            "2 36\n",
            "3 53\n",
            "4 19\n",
            "0 23\n",
            "1 12\n",
            "2 36\n",
            "3 53\n",
            "4 19\n"
          ]
        }
      ]
    },
    {
      "cell_type": "code",
      "source": [
        "# all : 모두가 참이어야 참\n",
        "if all(60 > x for x in a): \n",
        "  print(\"Y\")\n",
        "else:\n",
        "  print(\"N\")"
      ],
      "metadata": {
        "colab": {
          "base_uri": "https://localhost:8080/"
        },
        "id": "9wwXAnWe7Xi6",
        "outputId": "cb496fc4-819a-4842-8d8d-9d4d68764ac5"
      },
      "execution_count": null,
      "outputs": [
        {
          "output_type": "stream",
          "name": "stdout",
          "text": [
            "Y\n"
          ]
        }
      ]
    },
    {
      "cell_type": "code",
      "source": [
        "# any : 한 개라도 참이면 참\n",
        "\n",
        "if any(15 > x for x in a): \n",
        "  print(\"Y\")\n",
        "else:\n",
        "  print(\"N\")"
      ],
      "metadata": {
        "colab": {
          "base_uri": "https://localhost:8080/"
        },
        "id": "eZCqShi57uUr",
        "outputId": "d6775b3b-b686-4fc9-c2ff-1aa86a060db6"
      },
      "execution_count": null,
      "outputs": [
        {
          "output_type": "stream",
          "name": "stdout",
          "text": [
            "Y\n"
          ]
        }
      ]
    },
    {
      "cell_type": "code",
      "source": [
        "## 2차원 리스트 생성과 접근\n",
        "\n",
        "a = [0]*10 # 모든 값이 0인 1차원 리스트 생성\n",
        "print(a)"
      ],
      "metadata": {
        "colab": {
          "base_uri": "https://localhost:8080/"
        },
        "id": "5fhwtyWE78pM",
        "outputId": "8ba41f5c-18e2-464a-bb09-0f6568332a8d"
      },
      "execution_count": null,
      "outputs": [
        {
          "output_type": "stream",
          "name": "stdout",
          "text": [
            "[0, 0, 0, 0, 0, 0, 0, 0, 0, 0]\n"
          ]
        }
      ]
    },
    {
      "cell_type": "code",
      "source": [
        "a =[[0]*3 for _ in range(3)]\n",
        "print(a)"
      ],
      "metadata": {
        "colab": {
          "base_uri": "https://localhost:8080/"
        },
        "id": "W5R7_3_88P9M",
        "outputId": "b0f8b859-6526-4468-91ff-307fe51a7e00"
      },
      "execution_count": null,
      "outputs": [
        {
          "output_type": "stream",
          "name": "stdout",
          "text": [
            "[[0, 0, 0], [0, 0, 0], [0, 0, 0]]\n"
          ]
        }
      ]
    },
    {
      "cell_type": "code",
      "source": [
        "a[0][1] = 1 # 0행의 1열\n",
        "a[1][1] = 2 # 1행의 1열\n",
        "print(a)"
      ],
      "metadata": {
        "colab": {
          "base_uri": "https://localhost:8080/"
        },
        "id": "qZGxDv1b8W6c",
        "outputId": "eba5e401-3f70-45e3-d59b-3ce217bcd95c"
      },
      "execution_count": null,
      "outputs": [
        {
          "output_type": "stream",
          "name": "stdout",
          "text": [
            "[[0, 1, 0], [0, 2, 0], [0, 0, 0]]\n"
          ]
        }
      ]
    },
    {
      "cell_type": "code",
      "source": [
        "# a의 행별로 출력\n",
        "for x in a:\n",
        "  print(x)"
      ],
      "metadata": {
        "colab": {
          "base_uri": "https://localhost:8080/"
        },
        "id": "ZW4qp_408sVs",
        "outputId": "be902d8b-44d4-46a8-8fef-496fda429404"
      },
      "execution_count": null,
      "outputs": [
        {
          "output_type": "stream",
          "name": "stdout",
          "text": [
            "[0, 1, 0]\n",
            "[0, 2, 0]\n",
            "[0, 0, 0]\n"
          ]
        }
      ]
    },
    {
      "cell_type": "code",
      "source": [
        "# 리스트의 값들만 출력\n",
        "for x in a:\n",
        "  for y in x:\n",
        "    print(y, end = ' ')\n",
        "  print()"
      ],
      "metadata": {
        "colab": {
          "base_uri": "https://localhost:8080/"
        },
        "id": "kUS5mMUu9AM_",
        "outputId": "cd477962-75a1-4db1-e7a8-c00894463ee8"
      },
      "execution_count": null,
      "outputs": [
        {
          "output_type": "stream",
          "name": "stdout",
          "text": [
            "0 1 0 \n",
            "0 2 0 \n",
            "0 0 0 \n"
          ]
        }
      ]
    },
    {
      "cell_type": "code",
      "source": [
        "## 함수 만들기\n",
        "\n",
        "# 소수만 출력되도록\n",
        "def isPrime(x):\n",
        "  for i in range(2,x):\n",
        "    if x%i == 0:\n",
        "      return False # return에서 함수 종료\n",
        "  return True\n",
        "\n",
        "a =[12,13,7,9,19]\n",
        "for y in a:\n",
        "  if isPrime(y):\n",
        "    print(y, end=' ')"
      ],
      "metadata": {
        "colab": {
          "base_uri": "https://localhost:8080/"
        },
        "id": "AoWFFIRq9Jm7",
        "outputId": "b03ed4c1-9c2f-4deb-d447-4b309ab11866"
      },
      "execution_count": null,
      "outputs": [
        {
          "output_type": "stream",
          "name": "stdout",
          "text": [
            "13 7 19 "
          ]
        }
      ]
    },
    {
      "cell_type": "code",
      "source": [
        "## 람다함수\n",
        "\n",
        "def plus_one(x):\n",
        "  return x+1\n",
        "\n",
        "print(plus_one(1))\n",
        "\n",
        "plus_two = lambda x: x+2\n",
        "print(plus_two(1))"
      ],
      "metadata": {
        "colab": {
          "base_uri": "https://localhost:8080/"
        },
        "id": "0YIu_y7N-YZ9",
        "outputId": "72271f59-ec79-4873-d986-1c6d27f7df28"
      },
      "execution_count": null,
      "outputs": [
        {
          "output_type": "stream",
          "name": "stdout",
          "text": [
            "2\n",
            "3\n"
          ]
        }
      ]
    },
    {
      "cell_type": "code",
      "source": [
        "a = [1,2,3]\n",
        "print(list(map(plus_one, a)))\n",
        "\n",
        "#map의 인자로 lambda 함수 사용 (sort 인자로도 많이 사용)\n",
        "print(list(map(lambda x: x+1, a)))"
      ],
      "metadata": {
        "colab": {
          "base_uri": "https://localhost:8080/"
        },
        "id": "mvg7hqQi-2tc",
        "outputId": "50dee123-f490-4a43-b058-4cc13e57aa01"
      },
      "execution_count": null,
      "outputs": [
        {
          "output_type": "stream",
          "name": "stdout",
          "text": [
            "[2, 3, 4]\n",
            "[2, 3, 4]\n"
          ]
        }
      ]
    },
    {
      "cell_type": "markdown",
      "source": [
        "# 코딩 구현력 기르기"
      ],
      "metadata": {
        "id": "i3B8X7-q--Zs"
      }
    }
  ]
}